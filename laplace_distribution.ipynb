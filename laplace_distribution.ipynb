{
 "cells": [
  {
   "cell_type": "markdown",
   "metadata": {},
   "source": [
    "## 1. Laplace distribution of the first order difference of adjacent pixels"
   ]
  },
  {
   "cell_type": "code",
   "execution_count": 11,
   "metadata": {},
   "outputs": [
    {
     "data": {
      "image/png": "[encoded data removed]",
      "text/plain": [
       "<Figure size 432x288 with 1 Axes>"
      ]
     },
     "metadata": {
      "needs_background": "light"
     },
     "output_type": "display_data"
    }
   ],
   "source": [
    "import os\n",
    "import cv2\n",
    "import numpy as np\n",
    "import matplotlib.pyplot as plt\n",
    "\n",
    "image_path = \"/data/zhangjianghui/Datasets/Kodak/kodim05.png\"\n",
    "image = cv2.imread(image_path, cv2.IMREAD_GRAYSCALE)\n",
    "\n",
    "h, w = image.shape\n",
    "length = 1021\n",
    "hist = np.zeros([length], dtype=np.float64)\n",
    "# from top to bottom\n",
    "image = image.astype(np.int32)\n",
    "diff = image\n",
    "dh, dw = diff.shape\n",
    "for i in range(1, dh-1):\n",
    "    for j in range(1, dw-1):\n",
    "        hist[diff[i,j]-diff[i-1,j-1]+length//2] += 1\n",
    "        hist[diff[i,j]-diff[i-1,j]+length//2] += 1\n",
    "        hist[diff[i,j]-diff[i-1,j+1]+length//2] += 1\n",
    "        hist[diff[i,j]-diff[i,j-1]+length//2] += 1\n",
    "        hist[diff[i,j]-diff[i,j+1]+length//2] += 1\n",
    "        hist[diff[i,j]-diff[i+1,j-1]+length//2] += 1\n",
    "        hist[diff[i,j]-diff[i+1,j]+length//2] += 1\n",
    "        hist[diff[i,j]-diff[i+1,j+1]+length//2] += 1\n",
    "\n",
    "hist /= 8*(dh-2)*(dw-2)\n",
    "x = np.arange(0, length, 1) - length//2\n",
    "plt.ylim([0, 0.2])\n",
    "plt.xlim([-length//2, length//2])\n",
    "plt.plot(x, hist)\n",
    "plt.show()"
   ]
  },
  {
   "cell_type": "markdown",
   "metadata": {},
   "source": [
    "## 2. Laplace distribution of the second order difference of adjacent pixels"
   ]
  },
  {
   "cell_type": "code",
   "execution_count": 7,
   "metadata": {},
   "outputs": [
    {
     "data": {
      "image/png": "[encoded data removed]",
      "text/plain": [
       "<Figure size 432x288 with 1 Axes>"
      ]
     },
     "metadata": {
      "needs_background": "light"
     },
     "output_type": "display_data"
    }
   ],
   "source": [
    "import os\n",
    "import cv2\n",
    "import numpy as np\n",
    "import matplotlib.pyplot as plt\n",
    "\n",
    "image_path = \"/data/zhangjianghui/Datasets/Kodak/kodim02.png\"\n",
    "image = cv2.imread(image_path, cv2.IMREAD_GRAYSCALE)\n",
    "\n",
    "h, w = image.shape\n",
    "length = 1021\n",
    "hist = np.zeros([length], dtype=np.float64)\n",
    "# from top to bottom\n",
    "image = image.astype(np.int32)\n",
    "diff = image[:, :w-1] - image[:, 1:w]\n",
    "dh, dw = diff.shape\n",
    "for i in range(1, dh-1):\n",
    "    for j in range(1, dw-1):\n",
    "        hist[diff[i,j]-diff[i-1,j-1]+length//2] += 1\n",
    "        hist[diff[i,j]-diff[i-1,j]+length//2] += 1\n",
    "        hist[diff[i,j]-diff[i-1,j+1]+length//2] += 1\n",
    "        hist[diff[i,j]-diff[i,j-1]+length//2] += 1\n",
    "        hist[diff[i,j]-diff[i,j+1]+length//2] += 1\n",
    "        hist[diff[i,j]-diff[i+1,j-1]+length//2] += 1\n",
    "        hist[diff[i,j]-diff[i+1,j]+length//2] += 1\n",
    "        hist[diff[i,j]-diff[i+1,j+1]+length//2] += 1\n",
    "\n",
    "hist /= 8*(dh-2)*(dw-2)\n",
    "x = np.arange(0, length, 1) - length//2\n",
    "plt.ylim([0, 0.2])\n",
    "plt.xlim([-length//2, length//2])\n",
    "plt.plot(x, hist)\n",
    "plt.show()"
   ]
  }
 ],
 "metadata": {
  "interpreter": {
   "hash": "2b43f6b03109abf2305e238d68883bc77dbbb1d23829ebbcbf1e61cf967bed19"
  },
  "kernelspec": {
   "display_name": "Python 3.8.8 64-bit ('base': conda)",
   "name": "python3"
  },
  "language_info": {
   "codemirror_mode": {
    "name": "ipython",
    "version": 3
   },
   "file_extension": ".py",
   "mimetype": "text/x-python",
   "name": "python",
   "nbconvert_exporter": "python",
   "pygments_lexer": "ipython3",
   "version": "3.8.8"
  },
  "orig_nbformat": 4
 },
 "nbformat": 4,
 "nbformat_minor": 2
}
